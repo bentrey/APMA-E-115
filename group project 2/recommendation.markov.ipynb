{
 "cells": [
  {
   "cell_type": "markdown",
   "metadata": {},
   "source": [
    "## Personalized recommendation system using random walk based markov model"
   ]
  },
  {
   "cell_type": "code",
   "execution_count": 61,
   "metadata": {},
   "outputs": [],
   "source": [
    "import numpy as np\n",
    "import pandas as pd\n",
    "import os\n",
    "import collections\n",
    "import itertools"
   ]
  },
  {
   "cell_type": "code",
   "execution_count": 369,
   "metadata": {},
   "outputs": [],
   "source": [
    "## related functions\n",
    "def filter_split_data(data, n_freq):\n",
    "    # filter less frequent users to reduce sparsity\n",
    "    uids = data['UserId']\n",
    "    user_freq = collections.Counter(uids)\n",
    "    # filter users \n",
    "    counter_df = pd.DataFrame.from_dict(user_freq, orient='index').reset_index()\n",
    "    counter_df = counter_df.rename(columns={'index':'usd', 0:'count'})\n",
    "    user_sel = counter_df[counter_df['count']>8]['usd']\n",
    "    \n",
    "    data_filtered = data[data['UserId'].isin(user_sel)]\n",
    "    data_filtered = data_filtered.reset_index()\n",
    "    \n",
    "    # split data into train and validation\n",
    "    # validation dataset is the last 3 items of an user\n",
    "    val_index = list()\n",
    "    train_index = list()\n",
    "    for i in user_sel:\n",
    "        index = data_filtered[data_filtered['UserId'] == i].index.tolist()\n",
    "        val_index = list(itertools.chain(val_index, index[-3:]))\n",
    "        train_index = list(itertools.chain(train_index, index[0:len(index)-3]))\n",
    "    \n",
    "    train_data = data_filtered.loc[train_index]\n",
    "    val_data = data_filtered.loc[val_index]\n",
    "    \n",
    "    # reset index\n",
    "    train_data = train_data.reset_index()\n",
    "    val_data = val_data.reset_index()\n",
    "    return train_data, val_data\n",
    "\n",
    "## calculate transition probability matrix from datasets\n",
    "def transition_prob(data):\n",
    "    items = data['ItemId'].unique()\n",
    "    uids = data['UserId'].unique()\n",
    "    # initialization of transition probability matrix\n",
    "    t = np.zeros((len(items), len(items)))\n",
    "    \n",
    "    for j in range(len(uids)):\n",
    "        uid_df = data[data[\"UserId\"] == uids[j]]\n",
    "        k=0\n",
    "        while(k>=0 and k<uid_df.shape[0]-1):\n",
    "            row_item = uid_df.iloc[k, :]['ItemId']\n",
    "            row_index = np.where(items == row_item)\n",
    "            next_item = uid_df.iloc[k+1, :]['ItemId']\n",
    "            col_index = np.where(items == next_item)\n",
    "            t[row_index, col_index] = t[row_index, col_index] + 1\n",
    "            k = k+1\n",
    "    \n",
    "    #print(t)\n",
    "    t = t/t.sum(axis=1)[:,None]\n",
    "    t = np.nan_to_num(t)\n",
    "    return t\n",
    "\n",
    "## generate user behavior matrix\n",
    "def user_spec_vec(data):\n",
    "    items = data['ItemId'].unique()\n",
    "    uids = data['UserId'].unique()\n",
    "    \n",
    "    # initiate user specific matrix\n",
    "    u = np.zeros((len(uids), len(items)))\n",
    "    \n",
    "    for i in range(len(uids)):\n",
    "        uid_df = data[data[\"UserId\"] == uids[i]]\n",
    "        for j in range(len(items)):\n",
    "            item_index = uid_df[uid_df['ItemId'] == items[j]]['ItemId']\n",
    "            if len(item_index) > 0:\n",
    "                col_index = np.where(items == items[j])\n",
    "                u[i, col_index] = len(item_index)\n",
    "    \n",
    "    norm_u = u/u.sum(axis=1)[:,None]\n",
    "    norm_u = np.nan_to_num(norm_u)\n",
    "    return u, norm_u\n",
    "\n",
    "## calculate user-specific recomendation matrix\n",
    "def walk_alg(u, T, alpha, steps=100):\n",
    "    # initialize recomendation matrix\n",
    "    p = u  # dim: u*n\n",
    "    \n",
    "    for k in range(steps):\n",
    "            p =  alpha*np.dot(p, T) + (1-alpha)*u\n",
    "            # norm p\n",
    "            p_updated = p/p.sum(axis=1)[:,None]\n",
    "            #if sum(p.sum(axis=1) - p_updated(axis=1)) < ttol:\n",
    "            #    return(p)\n",
    "            \n",
    "            p = p_updated\n",
    "            \n",
    "    return p\n",
    "\n",
    "## get ntop recommendations list for each user\n",
    "def user_recommendation(p, items, usid, ntop=3):\n",
    "    recomm_list = list()\n",
    "    sort = np.argsort(-p, axis=1)\n",
    "    \n",
    "    for i in range(p.shape[0]):\n",
    "        recomm_list.append(list(items[sort[i, range(ntop)]]))\n",
    "    \n",
    "    df = pd.DataFrame(recomm_list)\n",
    "    df['usid'] = usid\n",
    "    return df"
   ]
  },
  {
   "cell_type": "code",
   "execution_count": 374,
   "metadata": {},
   "outputs": [
    {
     "name": "stderr",
     "output_type": "stream",
     "text": [
      "C:\\Users\\Qiwen.000\\Anaconda3\\lib\\site-packages\\ipykernel_launcher.py:50: RuntimeWarning: invalid value encountered in true_divide\n"
     ]
    }
   ],
   "source": [
    "## read datasets\n",
    "data = pd.read_csv(\"datasets/events_train_full.0.txt\", sep=\"\\t\")\n",
    "data.head()\n",
    "\n",
    "n_freq = 8\n",
    "# filter less frequent users to reduce sparsity\n",
    "train_data, val_data = filter_split_data(data, n_freq)\n",
    "\n",
    "## get subset data\n",
    "data_sel = train_data[0:1000]\n",
    "\n",
    "# item and user lists\n",
    "items = data_sel['ItemId'].unique()\n",
    "uids = data_sel['UserId'].unique()\n",
    "\n",
    "# generate transition prob matrix\n",
    "### test for the first 1000 rows\n",
    "T = transition_prob(data_sel)\n",
    "u, u_norm = user_spec_vec(data_sel)"
   ]
  },
  {
   "cell_type": "code",
   "execution_count": 375,
   "metadata": {},
   "outputs": [
    {
     "data": {
      "text/plain": [
       "array([[0.8       , 0.2       , 0.        , ..., 0.        , 0.        ,\n",
       "        0.        ],\n",
       "       [0.        , 0.        , 0.        , ..., 0.        , 0.        ,\n",
       "        0.        ],\n",
       "       [0.        , 0.        , 0.97368421, ..., 0.        , 0.        ,\n",
       "        0.        ],\n",
       "       ...,\n",
       "       [0.        , 0.        , 0.        , ..., 0.        , 1.        ,\n",
       "        0.        ],\n",
       "       [0.        , 0.        , 0.        , ..., 0.        , 0.        ,\n",
       "        1.        ],\n",
       "       [0.        , 0.        , 0.        , ..., 0.        , 0.        ,\n",
       "        0.        ]])"
      ]
     },
     "execution_count": 375,
     "metadata": {},
     "output_type": "execute_result"
    }
   ],
   "source": [
    "T"
   ]
  },
  {
   "cell_type": "code",
   "execution_count": 376,
   "metadata": {},
   "outputs": [
    {
     "data": {
      "text/plain": [
       "array([[0.83333333, 0.16666667, 0.        , ..., 0.        , 0.        ,\n",
       "        0.        ],\n",
       "       [0.        , 0.        , 0.79166667, ..., 0.        , 0.        ,\n",
       "        0.        ],\n",
       "       [0.        , 0.        , 0.        , ..., 0.        , 0.        ,\n",
       "        0.        ],\n",
       "       ...,\n",
       "       [0.        , 0.        , 0.        , ..., 0.        , 0.        ,\n",
       "        0.        ],\n",
       "       [0.        , 0.        , 0.        , ..., 0.        , 0.        ,\n",
       "        0.        ],\n",
       "       [0.        , 0.        , 0.        , ..., 0.08333333, 0.08333333,\n",
       "        0.08333333]])"
      ]
     },
     "execution_count": 376,
     "metadata": {},
     "output_type": "execute_result"
    }
   ],
   "source": [
    "u_norm"
   ]
  },
  {
   "cell_type": "code",
   "execution_count": 378,
   "metadata": {},
   "outputs": [
    {
     "data": {
      "text/plain": [
       "array([[0.83305518, 0.16694482, 0.        , ..., 0.        , 0.        ,\n",
       "        0.        ],\n",
       "       [0.        , 0.        , 0.79145628, ..., 0.        , 0.        ,\n",
       "        0.        ],\n",
       "       [0.        , 0.        , 0.        , ..., 0.        , 0.        ,\n",
       "        0.        ],\n",
       "       ...,\n",
       "       [0.        , 0.        , 0.        , ..., 0.        , 0.        ,\n",
       "        0.        ],\n",
       "       [0.        , 0.        , 0.        , ..., 0.        , 0.        ,\n",
       "        0.        ],\n",
       "       [0.        , 0.        , 0.        , ..., 0.0834036 , 0.0834036 ,\n",
       "        0.0834036 ]])"
      ]
     },
     "execution_count": 378,
     "metadata": {},
     "output_type": "execute_result"
    }
   ],
   "source": [
    "# generate recommendation matrix\n",
    "p = walk_alg(u_norm, T, alpha=0.01, steps=50)\n",
    "p"
   ]
  },
  {
   "cell_type": "code",
   "execution_count": 380,
   "metadata": {},
   "outputs": [
    {
     "data": {
      "text/html": [
       "<div>\n",
       "<style scoped>\n",
       "    .dataframe tbody tr th:only-of-type {\n",
       "        vertical-align: middle;\n",
       "    }\n",
       "\n",
       "    .dataframe tbody tr th {\n",
       "        vertical-align: top;\n",
       "    }\n",
       "\n",
       "    .dataframe thead th {\n",
       "        text-align: right;\n",
       "    }\n",
       "</style>\n",
       "<table border=\"1\" class=\"dataframe\">\n",
       "  <thead>\n",
       "    <tr style=\"text-align: right;\">\n",
       "      <th></th>\n",
       "      <th>0</th>\n",
       "      <th>1</th>\n",
       "      <th>2</th>\n",
       "      <th>usid</th>\n",
       "    </tr>\n",
       "  </thead>\n",
       "  <tbody>\n",
       "    <tr>\n",
       "      <th>0</th>\n",
       "      <td>407485</td>\n",
       "      <td>133814</td>\n",
       "      <td>152249</td>\n",
       "      <td>1230</td>\n",
       "    </tr>\n",
       "    <tr>\n",
       "      <th>1</th>\n",
       "      <td>381314</td>\n",
       "      <td>175292</td>\n",
       "      <td>407485</td>\n",
       "      <td>1722</td>\n",
       "    </tr>\n",
       "    <tr>\n",
       "      <th>2</th>\n",
       "      <td>29863</td>\n",
       "      <td>252596</td>\n",
       "      <td>335661</td>\n",
       "      <td>1879</td>\n",
       "    </tr>\n",
       "    <tr>\n",
       "      <th>3</th>\n",
       "      <td>259884</td>\n",
       "      <td>78268</td>\n",
       "      <td>342264</td>\n",
       "      <td>2114</td>\n",
       "    </tr>\n",
       "    <tr>\n",
       "      <th>4</th>\n",
       "      <td>195958</td>\n",
       "      <td>152249</td>\n",
       "      <td>135900</td>\n",
       "      <td>2270</td>\n",
       "    </tr>\n",
       "    <tr>\n",
       "      <th>...</th>\n",
       "      <td>...</td>\n",
       "      <td>...</td>\n",
       "      <td>...</td>\n",
       "      <td>...</td>\n",
       "    </tr>\n",
       "    <tr>\n",
       "      <th>64</th>\n",
       "      <td>188169</td>\n",
       "      <td>165161</td>\n",
       "      <td>164027</td>\n",
       "      <td>24757</td>\n",
       "    </tr>\n",
       "    <tr>\n",
       "      <th>65</th>\n",
       "      <td>102176</td>\n",
       "      <td>197270</td>\n",
       "      <td>166138</td>\n",
       "      <td>25635</td>\n",
       "    </tr>\n",
       "    <tr>\n",
       "      <th>66</th>\n",
       "      <td>248742</td>\n",
       "      <td>133431</td>\n",
       "      <td>410698</td>\n",
       "      <td>25748</td>\n",
       "    </tr>\n",
       "    <tr>\n",
       "      <th>67</th>\n",
       "      <td>280342</td>\n",
       "      <td>187208</td>\n",
       "      <td>150877</td>\n",
       "      <td>25784</td>\n",
       "    </tr>\n",
       "    <tr>\n",
       "      <th>68</th>\n",
       "      <td>181080</td>\n",
       "      <td>181353</td>\n",
       "      <td>425534</td>\n",
       "      <td>25922</td>\n",
       "    </tr>\n",
       "  </tbody>\n",
       "</table>\n",
       "<p>69 rows × 4 columns</p>\n",
       "</div>"
      ],
      "text/plain": [
       "         0       1       2   usid\n",
       "0   407485  133814  152249   1230\n",
       "1   381314  175292  407485   1722\n",
       "2    29863  252596  335661   1879\n",
       "3   259884   78268  342264   2114\n",
       "4   195958  152249  135900   2270\n",
       "..     ...     ...     ...    ...\n",
       "64  188169  165161  164027  24757\n",
       "65  102176  197270  166138  25635\n",
       "66  248742  133431  410698  25748\n",
       "67  280342  187208  150877  25784\n",
       "68  181080  181353  425534  25922\n",
       "\n",
       "[69 rows x 4 columns]"
      ]
     },
     "execution_count": 380,
     "metadata": {},
     "output_type": "execute_result"
    }
   ],
   "source": [
    "user_recommendation(p, items, uids, ntop=3)"
   ]
  }
 ],
 "metadata": {
  "kernelspec": {
   "display_name": "Python 3",
   "language": "python",
   "name": "python3"
  },
  "language_info": {
   "codemirror_mode": {
    "name": "ipython",
    "version": 3
   },
   "file_extension": ".py",
   "mimetype": "text/x-python",
   "name": "python",
   "nbconvert_exporter": "python",
   "pygments_lexer": "ipython3",
   "version": "3.7.3"
  }
 },
 "nbformat": 4,
 "nbformat_minor": 2
}
