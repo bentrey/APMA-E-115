{
 "cells": [
  {
   "cell_type": "markdown",
   "metadata": {},
   "source": [
    "<h1>Google Ranking Algorithm</h1>"
   ]
  },
  {
   "cell_type": "code",
   "execution_count": 1,
   "metadata": {},
   "outputs": [],
   "source": [
    "import numpy as np\n",
    "import urllib.request\n",
    "import os\n",
    "import time\n",
    "from tqdm.notebook import tqdm"
   ]
  },
  {
   "cell_type": "code",
   "execution_count": 2,
   "metadata": {},
   "outputs": [],
   "source": [
    "#dictionary of urls\n",
    "url_targets = {}\n",
    "url_pointers = {}\n",
    "#damping factor\n",
    "d = 0.85\n",
    "#creeper iterations\n",
    "creeper_iterations=2\n",
    "#base url\n",
    "base_url = \"https://en.wikipedia.org\"\n",
    "#initial url\n",
    "initial_url = \"/wiki/Black_Hole_Initiative\""
   ]
  },
  {
   "cell_type": "markdown",
   "metadata": {},
   "source": [
    "<h1>Crawler</h1>"
   ]
  },
  {
   "cell_type": "code",
   "execution_count": 3,
   "metadata": {},
   "outputs": [],
   "source": [
    "def crawler(initial_url, creeper_iterations):\n",
    "    htmls = os.listdir('wiki')\n",
    "    #list of websites a website ponts to \n",
    "    url_targets = {}\n",
    "    open_urls = [initial_url]\n",
    "    for n in range(creeper_iterations):\n",
    "        print(n)\n",
    "        new_urls = set()\n",
    "        for url in tqdm(open_urls):\n",
    "            url_targets[url] = set()\n",
    "            try:\n",
    "                file_name = '_'.join(url.split('/')[2:])+'.html'\n",
    "                if file_name.replace('*','<star>') in htmls:\n",
    "                    file = open('wiki/'+file_name,encoding=\"utf-8\").read()\n",
    "                else:    \n",
    "                    file = urllib.request.urlopen(base_url+url).read().decode(\"utf-8\")\n",
    "                    html = open('wiki/'+file_name.replace('*',''),\"w+\",encoding=\"utf-8\")\n",
    "                    html.write(file)\n",
    "                    html.close()\n",
    "                file = file.replace(\" \",\"\")\n",
    "                url_list =file.split('href=\"')\n",
    "                for k in range(len(url_list)):\n",
    "                    url_list[k] = url_list[k].split('\"')[0]\n",
    "                for found_url in url_list:\n",
    "                    if not found_url in url_targets.keys() and \"/wiki/\" == found_url[:6] \\\n",
    "                    and not \"#\" in found_url and not \":\" in found_url:\n",
    "                        new_urls.add(found_url)\n",
    "                    if not found_url in url_targets[url]:\n",
    "                        url_targets[url].add(found_url)\n",
    "            except Exception as e: \n",
    "                print(str(e))\n",
    "            open_urls = new_urls\n",
    "    for key in url_targets:\n",
    "        new_targets = set()\n",
    "        for target in url_targets[key]:\n",
    "            if target in url_targets.keys():\n",
    "                new_targets.add(target)\n",
    "        url_targets[key] = new_targets\n",
    "    return url_targets\n"
   ]
  },
  {
   "cell_type": "code",
   "execution_count": 4,
   "metadata": {},
   "outputs": [
    {
     "name": "stdout",
     "output_type": "stream",
     "text": [
      "0\n"
     ]
    },
    {
     "data": {
      "application/vnd.jupyter.widget-view+json": {
       "model_id": "5ca29e240020419081217ae2adb7165f",
       "version_major": 2,
       "version_minor": 0
      },
      "text/plain": [
       "HBox(children=(HTML(value=''), FloatProgress(value=0.0, max=1.0), HTML(value='')))"
      ]
     },
     "metadata": {},
     "output_type": "display_data"
    },
    {
     "name": "stdout",
     "output_type": "stream",
     "text": [
      "\n",
      "1\n"
     ]
    },
    {
     "data": {
      "application/vnd.jupyter.widget-view+json": {
       "model_id": "1a439c279bab4bfea6613f4d81dff507",
       "version_major": 2,
       "version_minor": 0
      },
      "text/plain": [
       "HBox(children=(HTML(value=''), FloatProgress(value=0.0, max=245.0), HTML(value='')))"
      ]
     },
     "metadata": {},
     "output_type": "display_data"
    },
    {
     "name": "stdout",
     "output_type": "stream",
     "text": [
      "\n"
     ]
    }
   ],
   "source": [
    "url_targets = crawler(initial_url, creeper_iterations)"
   ]
  },
  {
   "cell_type": "markdown",
   "metadata": {},
   "source": [
    "<h1>Relaxation Method</h1>"
   ]
  },
  {
   "cell_type": "markdown",
   "metadata": {},
   "source": [
    "We assume page $A$ has pages $T_1 ... T_n$ which point to it (i.e., are citations). The parameter $d$ is a damping factor which can be set between 0 and 1. We usually set $d$ to 0.85. There are more details about $d$ in the next section. Also $C(A)$ is defined as the number of links going out of page $A$. The PageRank of a page $A$ is given as follows:<br><br>\n",
    "$$PR(A) = (1-d) + d (PR(T_1)/C(T_1) + ... + PR(T_n)/C(T_n))$$<br>\n",
    "Note that the PageRanks form a probability distribution over web pages, so the sum of all web pages' PageRanks will be one."
   ]
  },
  {
   "cell_type": "code",
   "execution_count": 5,
   "metadata": {},
   "outputs": [
    {
     "data": {
      "application/vnd.jupyter.widget-view+json": {
       "model_id": "adc8d4475c2c47cfb65fe90804da88ce",
       "version_major": 2,
       "version_minor": 0
      },
      "text/plain": [
       "HBox(children=(HTML(value=''), FloatProgress(value=0.0, max=246.0), HTML(value='')))"
      ]
     },
     "metadata": {},
     "output_type": "display_data"
    },
    {
     "name": "stdout",
     "output_type": "stream",
     "text": [
      "\n"
     ]
    },
    {
     "data": {
      "application/vnd.jupyter.widget-view+json": {
       "model_id": "df82e8e6b74448a580ab2b6c3f5deaaf",
       "version_major": 2,
       "version_minor": 0
      },
      "text/plain": [
       "HBox(children=(HTML(value=''), FloatProgress(value=0.0, max=246.0), HTML(value='')))"
      ]
     },
     "metadata": {},
     "output_type": "display_data"
    },
    {
     "name": "stdout",
     "output_type": "stream",
     "text": [
      "\n"
     ]
    },
    {
     "data": {
      "application/vnd.jupyter.widget-view+json": {
       "model_id": "2042ccbc52e44f1fabd4ad42a3275274",
       "version_major": 2,
       "version_minor": 0
      },
      "text/plain": [
       "HBox(children=(HTML(value=''), FloatProgress(value=0.0, max=246.0), HTML(value='')))"
      ]
     },
     "metadata": {},
     "output_type": "display_data"
    },
    {
     "name": "stdout",
     "output_type": "stream",
     "text": [
      "\n"
     ]
    },
    {
     "data": {
      "application/vnd.jupyter.widget-view+json": {
       "model_id": "b9836f5723554650a32b47844f553afe",
       "version_major": 2,
       "version_minor": 0
      },
      "text/plain": [
       "HBox(children=(HTML(value=''), FloatProgress(value=0.0, max=246.0), HTML(value='')))"
      ]
     },
     "metadata": {},
     "output_type": "display_data"
    },
    {
     "name": "stdout",
     "output_type": "stream",
     "text": [
      "\n"
     ]
    },
    {
     "data": {
      "application/vnd.jupyter.widget-view+json": {
       "model_id": "2ad12a158c1a4328a6ec81ce8968cfcd",
       "version_major": 2,
       "version_minor": 0
      },
      "text/plain": [
       "HBox(children=(HTML(value=''), FloatProgress(value=0.0, max=246.0), HTML(value='')))"
      ]
     },
     "metadata": {},
     "output_type": "display_data"
    },
    {
     "name": "stdout",
     "output_type": "stream",
     "text": [
      "\n",
      "time to run:  0.1984424591064453\n"
     ]
    }
   ],
   "source": [
    "start_time = time.time()\n",
    "\n",
    "page_rank = {}\n",
    "\n",
    "for key in url_targets:\n",
    "    page_rank[key] = 1/len(url_targets[key])\n",
    "\n",
    "for n in range(5):\n",
    "    new_rank = {}\n",
    "    for key in tqdm(page_rank):\n",
    "        new_rank[key] = 1-d\n",
    "        for sum_key in page_rank:\n",
    "            if key in url_targets[sum_key]:\n",
    "                new_rank[key] += d*page_rank[sum_key]/len(url_targets[sum_key])\n",
    "    page_rank = new_rank.copy()\n",
    "\n",
    "page_rank = {url: rank for url, rank in sorted(page_rank.items(), key=lambda item: item[1], reverse=True)}\n",
    "\n",
    "print('time to run: ',time.time()-start_time)"
   ]
  },
  {
   "cell_type": "code",
   "execution_count": 6,
   "metadata": {},
   "outputs": [
    {
     "data": {
      "text/plain": [
       "['/wiki/Main_Page',\n",
       " '/wiki/Black_hole',\n",
       " '/wiki/Dark_matter',\n",
       " '/wiki/Universe',\n",
       " '/wiki/Supernova',\n",
       " '/wiki/General_relativity',\n",
       " '/wiki/Galaxy',\n",
       " '/wiki/Dark_energy',\n",
       " '/wiki/White_dwarf',\n",
       " '/wiki/Neutron_star']"
      ]
     },
     "execution_count": 6,
     "metadata": {},
     "output_type": "execute_result"
    }
   ],
   "source": [
    "list(page_rank)[:10]"
   ]
  },
  {
   "cell_type": "code",
   "execution_count": 7,
   "metadata": {
    "scrolled": false
   },
   "outputs": [
    {
     "data": {
      "text/plain": [
       "[('/wiki/Main_Page', 8.828104827527515),\n",
       " ('/wiki/Black_hole', 1.15439880271944),\n",
       " ('/wiki/Dark_matter', 1.138515241404342),\n",
       " ('/wiki/Universe', 1.0739052881659963),\n",
       " ('/wiki/Supernova', 1.06405236425116),\n",
       " ('/wiki/General_relativity', 1.0621183265611853),\n",
       " ('/wiki/Galaxy', 0.9913803371022254),\n",
       " ('/wiki/Dark_energy', 0.9449846788778061),\n",
       " ('/wiki/White_dwarf', 0.933710808031581),\n",
       " ('/wiki/Neutron_star', 0.9286638536722459)]"
      ]
     },
     "execution_count": 7,
     "metadata": {},
     "output_type": "execute_result"
    }
   ],
   "source": [
    "[(key,page_rank[key]) for key in page_rank.keys()][:10]"
   ]
  },
  {
   "cell_type": "markdown",
   "metadata": {},
   "source": [
    "<h1>Linear Algebra</h1>"
   ]
  },
  {
   "cell_type": "markdown",
   "metadata": {},
   "source": [
    "$$PR(A) = (1-d) + d (PR(T_1)/C(T_1) + ... + PR(T_n)/C(T_n))$$<br>\n",
    "$$PR(A) - d (PR(T_1)/C(T_1) + ... + PR(T_n)/C(T_n)) = 1-d$$<br>\n",
    "$$\\begin{bmatrix}1 & -d/C_1(T_2) & ... \\\\ \n",
    "-d/C_2(T_1) & 1 & ... \\\\ \\vdots & \\vdots & \\ddots \\end{bmatrix} \\begin{bmatrix}PR(A_1) \\\\ PR(A_2) \\\\ \\vdots \\end{bmatrix} = \n",
    "\\begin{bmatrix}1-d \\\\ 1-d \\\\ \\vdots \\end{bmatrix}$$<br>\n",
    "$$\\begin{bmatrix}PR(A_1) \\\\ PR(A_2) \\\\ \\vdots \\end{bmatrix} = \n",
    "\\begin{bmatrix}1-d \\\\ 1-d \\\\ \\vdots \\end{bmatrix}\\begin{bmatrix}1 & -d/C_1(T_2) & ... \\\\ \n",
    "-d/C_2(T_1) & 1 & ... \\\\ \\vdots & \\vdots & \\ddots \\end{bmatrix}^{-1}$$"
   ]
  },
  {
   "cell_type": "code",
   "execution_count": 8,
   "metadata": {},
   "outputs": [
    {
     "name": "stdout",
     "output_type": "stream",
     "text": [
      "time to run:  0.06400418281555176\n"
     ]
    }
   ],
   "source": [
    "start_time = time.time()\n",
    "\n",
    "keys = list(page_rank.keys())\n",
    "b = np.zeros(len(keys))+1-d\n",
    "A = np.identity(len(keys))\n",
    "for row in range(len(keys)):\n",
    "    for column in range(len(keys)):\n",
    "        if row != column and keys[column] in url_targets[keys[row]]:\n",
    "            A[row,column] = -d/len(url_targets[keys[row]])\n",
    "PR = np.matmul(b.T,np.linalg.inv(A))\n",
    "\n",
    "print('time to run: ',time.time()-start_time)"
   ]
  },
  {
   "cell_type": "code",
   "execution_count": 9,
   "metadata": {},
   "outputs": [
    {
     "data": {
      "text/plain": [
       "[('/wiki/Main_Page', 4.523615406044074),\n",
       " ('/wiki/Black_hole', 1.8426238105143027),\n",
       " ('/wiki/Supernova', 1.7004531845537845),\n",
       " ('/wiki/Dark_matter', 1.684915610039688),\n",
       " ('/wiki/General_relativity', 1.6588876835802202),\n",
       " ('/wiki/Universe', 1.5643507207699832),\n",
       " ('/wiki/Galaxy', 1.5012556319362764),\n",
       " ('/wiki/Neutron_star', 1.4945359986560993),\n",
       " ('/wiki/White_dwarf', 1.4860015239025481),\n",
       " ('/wiki/Dark_energy', 1.3737415360304062)]"
      ]
     },
     "execution_count": 9,
     "metadata": {},
     "output_type": "execute_result"
    }
   ],
   "source": [
    "page_rank = {keys[n]:PR[n] for n in range(len(PR))}\n",
    "page_rank = {url: rank for url, rank in sorted(page_rank.items(), key=lambda item: item[1], reverse=True)}\n",
    "[(key,page_rank[key]) for key in page_rank.keys()][:10]"
   ]
  },
  {
   "cell_type": "markdown",
   "metadata": {},
   "source": [
    "<h1>Random Walk</h1>"
   ]
  },
  {
   "cell_type": "code",
   "execution_count": null,
   "metadata": {},
   "outputs": [],
   "source": [
    "steps = 10\n",
    "walkers = 10**4\n",
    "creeper_iterations = 2\n",
    "\n",
    "start_time = time.time()\n",
    "\n",
    "urls = list(url_targets.keys())\n",
    "\n",
    "#initial positions\n",
    "for walker in range(walkers):\n",
    "    positions = np.random.choice(urls,walkers)\n",
    "    \n",
    "for step in range(steps):\n",
    "    for walker in range(walkers):\n",
    "        positions[walker] = np.random.choice(list(url_targets[positions[walker]]))\n",
    "        \n",
    "page_rank = {url: (1-d) + d*np.sum(positions == url)/walkers for url in urls}\n",
    "print('time to run: ',time.time()-start_time)"
   ]
  },
  {
   "cell_type": "code",
   "execution_count": null,
   "metadata": {},
   "outputs": [],
   "source": [
    "page_rank = {url: rank for url, rank in sorted(page_rank.items(), key=lambda item: item[1], reverse=True)}\n",
    "[(key,page_rank[key]) for key in page_rank.keys()][:10]"
   ]
  },
  {
   "cell_type": "code",
   "execution_count": null,
   "metadata": {},
   "outputs": [],
   "source": []
  }
 ],
 "metadata": {
  "kernelspec": {
   "display_name": "Python 3",
   "language": "python",
   "name": "python3"
  },
  "language_info": {
   "codemirror_mode": {
    "name": "ipython",
    "version": 3
   },
   "file_extension": ".py",
   "mimetype": "text/x-python",
   "name": "python",
   "nbconvert_exporter": "python",
   "pygments_lexer": "ipython3",
   "version": "3.8.5"
  }
 },
 "nbformat": 4,
 "nbformat_minor": 4
}
