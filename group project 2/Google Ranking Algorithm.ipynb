{
 "cells": [
  {
   "cell_type": "markdown",
   "metadata": {},
   "source": [
    "<h1>Google Ranking Algorithm</h1>"
   ]
  },
  {
   "cell_type": "code",
   "execution_count": 53,
   "metadata": {},
   "outputs": [],
   "source": [
    "import numpy as np\n",
    "import urllib.request\n",
    "import os\n",
    "import time\n",
    "import matplotlib.pyplot as plt\n",
    "from tqdm.notebook import tqdm"
   ]
  },
  {
   "cell_type": "code",
   "execution_count": 21,
   "metadata": {},
   "outputs": [],
   "source": [
    "#dictionary of urls\n",
    "url_targets = {}\n",
    "url_pointers = {}\n",
    "#damping factor\n",
    "d = 0.85\n",
    "#creeper iterations\n",
    "creeper_iterations=2\n",
    "#base url\n",
    "base_url = \"https://en.wikipedia.org\"\n",
    "#initial url\n",
    "initial_url = \"/wiki/Black_Hole_Initiative\""
   ]
  },
  {
   "cell_type": "markdown",
   "metadata": {},
   "source": [
    "<h1>Crawler</h1>"
   ]
  },
  {
   "cell_type": "code",
   "execution_count": 22,
   "metadata": {},
   "outputs": [],
   "source": [
    "def crawler(initial_url, creeper_iterations):\n",
    "    htmls = os.listdir('wiki')\n",
    "    #list of websites a website ponts to \n",
    "    url_targets = {}\n",
    "    open_urls = [initial_url]\n",
    "    for n in range(creeper_iterations):\n",
    "        print(n)\n",
    "        new_urls = set()\n",
    "        for url in tqdm(open_urls):\n",
    "            url_targets[url] = set()\n",
    "            try:\n",
    "                file_name = '_'.join(url.split('/')[2:])+'.html'\n",
    "                if file_name.replace('*','<star>') in htmls:\n",
    "                    file = open('wiki/'+file_name,encoding=\"utf-8\").read()\n",
    "                else:    \n",
    "                    file = urllib.request.urlopen(base_url+url).read().decode(\"utf-8\")\n",
    "                    html = open('wiki/'+file_name.replace('*',''),\"w+\",encoding=\"utf-8\")\n",
    "                    html.write(file)\n",
    "                    html.close()\n",
    "                file = file.replace(\" \",\"\")\n",
    "                url_list =file.split('href=\"')\n",
    "                for k in range(len(url_list)):\n",
    "                    url_list[k] = url_list[k].split('\"')[0]\n",
    "                for found_url in url_list:\n",
    "                    if not found_url in url_targets.keys() and \"/wiki/\" == found_url[:6] \\\n",
    "                    and not \"#\" in found_url and not \":\" in found_url:\n",
    "                        new_urls.add(found_url)\n",
    "                    if not found_url in url_targets[url]:\n",
    "                        url_targets[url].add(found_url)\n",
    "            except Exception as e: \n",
    "                print(str(e))\n",
    "            open_urls = new_urls\n",
    "    for key in url_targets:\n",
    "        new_targets = set()\n",
    "        for target in url_targets[key]:\n",
    "            if target in url_targets.keys():\n",
    "                new_targets.add(target)\n",
    "        url_targets[key] = new_targets\n",
    "    return url_targets\n"
   ]
  },
  {
   "cell_type": "code",
   "execution_count": 23,
   "metadata": {},
   "outputs": [
    {
     "name": "stdout",
     "output_type": "stream",
     "text": [
      "0\n"
     ]
    },
    {
     "data": {
      "application/vnd.jupyter.widget-view+json": {
       "model_id": "b3f70b1bfa2e44409ea3c3e2662ea845",
       "version_major": 2,
       "version_minor": 0
      },
      "text/plain": [
       "HBox(children=(HTML(value=''), FloatProgress(value=0.0, max=1.0), HTML(value='')))"
      ]
     },
     "metadata": {},
     "output_type": "display_data"
    },
    {
     "name": "stdout",
     "output_type": "stream",
     "text": [
      "\n",
      "1\n"
     ]
    },
    {
     "data": {
      "application/vnd.jupyter.widget-view+json": {
       "model_id": "29eec9bcd9a046f9be96d742ee29ab0d",
       "version_major": 2,
       "version_minor": 0
      },
      "text/plain": [
       "HBox(children=(HTML(value=''), FloatProgress(value=0.0, max=245.0), HTML(value='')))"
      ]
     },
     "metadata": {},
     "output_type": "display_data"
    },
    {
     "name": "stdout",
     "output_type": "stream",
     "text": [
      "\n"
     ]
    }
   ],
   "source": [
    "url_targets = crawler(initial_url, creeper_iterations)"
   ]
  },
  {
   "cell_type": "markdown",
   "metadata": {},
   "source": [
    "<h1>Relaxation Method</h1>"
   ]
  },
  {
   "cell_type": "markdown",
   "metadata": {},
   "source": [
    "We assume page $A$ has pages $T_1 ... T_n$ which point to it (i.e., are citations). The parameter $d$ is a damping factor which can be set between 0 and 1. We usually set $d$ to 0.85. There are more details about $d$ in the next section. Also $C(A)$ is defined as the number of links going out of page $A$. The PageRank of a page $A$ is given as follows:<br><br>\n",
    "$$PR(A) = (1-d) + d (PR(T_1)/C(T_1) + ... + PR(T_n)/C(T_n))$$<br>\n",
    "Note that the PageRanks form a probability distribution over web pages, so the sum of all web pages' PageRanks will be one."
   ]
  },
  {
   "cell_type": "code",
   "execution_count": 26,
   "metadata": {},
   "outputs": [],
   "source": [
    "def relaxation(times, url_targets):\n",
    "    start_time = time.time()\n",
    "    page_rank = {}\n",
    "    for key in url_targets:\n",
    "        page_rank[key] = 1/len(url_targets[key])\n",
    "    for n in range(times):\n",
    "        new_rank = {}\n",
    "        for key in page_rank:\n",
    "            new_rank[key] = 1-d\n",
    "            for sum_key in page_rank:\n",
    "                if key in url_targets[sum_key]:\n",
    "                    new_rank[key] += d*page_rank[sum_key]/len(url_targets[sum_key])\n",
    "        page_rank = new_rank.copy()\n",
    "    page_rank = {url: rank for url, rank in sorted(page_rank.items(), key=lambda item: item[1], reverse=True)}\n",
    "    return page_rank, time.time() - start_time"
   ]
  },
  {
   "cell_type": "code",
   "execution_count": 16,
   "metadata": {},
   "outputs": [
    {
     "data": {
      "application/vnd.jupyter.widget-view+json": {
       "model_id": "066833fd4d3e4856a463d255ea0675bd",
       "version_major": 2,
       "version_minor": 0
      },
      "text/plain": [
       "HBox(children=(HTML(value=''), FloatProgress(value=0.0, max=246.0), HTML(value='')))"
      ]
     },
     "metadata": {},
     "output_type": "display_data"
    },
    {
     "name": "stdout",
     "output_type": "stream",
     "text": [
      "\n",
      "time to run:  0.030921220779418945\n"
     ]
    }
   ],
   "source": [
    "page_rank, time = relaxation(1, url_targets)\n",
    "print('time to run', time)"
   ]
  },
  {
   "cell_type": "code",
   "execution_count": 7,
   "metadata": {
    "scrolled": false
   },
   "outputs": [
    {
     "data": {
      "text/plain": [
       "[('/wiki/Main_Page', 8.828104827527515),\n",
       " ('/wiki/Black_hole', 1.15439880271944),\n",
       " ('/wiki/Dark_matter', 1.138515241404342),\n",
       " ('/wiki/Universe', 1.0739052881659963),\n",
       " ('/wiki/Supernova', 1.06405236425116),\n",
       " ('/wiki/General_relativity', 1.0621183265611853),\n",
       " ('/wiki/Galaxy', 0.9913803371022254),\n",
       " ('/wiki/Dark_energy', 0.9449846788778061),\n",
       " ('/wiki/White_dwarf', 0.933710808031581),\n",
       " ('/wiki/Neutron_star', 0.9286638536722459)]"
      ]
     },
     "execution_count": 7,
     "metadata": {},
     "output_type": "execute_result"
    }
   ],
   "source": [
    "[(key,page_rank[key]) for key in page_rank.keys()][:10]"
   ]
  },
  {
   "cell_type": "code",
   "execution_count": 40,
   "metadata": {},
   "outputs": [
    {
     "name": "stdout",
     "output_type": "stream",
     "text": [
      "1\n",
      "2\n",
      "3\n",
      "4\n",
      "5\n",
      "6\n",
      "7\n",
      "8\n",
      "9\n",
      "10\n"
     ]
    },
    {
     "data": {
      "image/png": "[encoded data removed]",
      "text/plain": [
       "<Figure size 432x288 with 1 Axes>"
      ]
     },
     "metadata": {
      "needs_background": "light"
     },
     "output_type": "display_data"
    },
    {
     "data": {
      "image/png": "[encoded data removed]",
      "text/plain": [
       "<Figure size 432x288 with 1 Axes>"
      ]
     },
     "metadata": {
      "needs_background": "light"
     },
     "output_type": "display_data"
    }
   ],
   "source": [
    "trials = 11\n",
    "x = list(range(1,trials))\n",
    "times = []\n",
    "page_ranks = []\n",
    "diffs = []\n",
    "for n in range(1,trials):\n",
    "    print(n)\n",
    "    page_rank, this_time = relaxation(n, url_targets)\n",
    "    times.append(this_time)\n",
    "    page_ranks.append(page_rank)\n",
    "for page_rank in page_ranks:\n",
    "    diff = 0\n",
    "    for key in page_rank:\n",
    "        diff += (page_rank[key]-page_ranks[-1][key])**2\n",
    "    diffs.append(diff)\n",
    "plt.scatter(x,times)\n",
    "plt.title('Time')\n",
    "plt.xlabel('Interation')\n",
    "plt.ylabel('Time (s)')\n",
    "plt.show()\n",
    "plt.scatter(x,diffs)\n",
    "plt.title('Difference From Final Values')\n",
    "plt.xlabel('Interation')\n",
    "plt.ylabel('Difference')\n",
    "plt.show()"
   ]
  },
  {
   "cell_type": "markdown",
   "metadata": {},
   "source": [
    "<h1>Linear Algebra</h1>"
   ]
  },
  {
   "cell_type": "markdown",
   "metadata": {},
   "source": [
    "$$PR(A) = (1-d) + d (PR(T_1)/C(T_1) + ... + PR(T_n)/C(T_n))$$<br>\n",
    "$$PR(A) - d (PR(T_1)/C(T_1) + ... + PR(T_n)/C(T_n)) = 1-d$$<br>\n",
    "$$\\begin{bmatrix}1 & -d/C_1(T_2) & ... \\\\ \n",
    "-d/C_2(T_1) & 1 & ... \\\\ \\vdots & \\vdots & \\ddots \\end{bmatrix} \\begin{bmatrix}PR(A_1) \\\\ PR(A_2) \\\\ \\vdots \\end{bmatrix} = \n",
    "\\begin{bmatrix}1-d \\\\ 1-d \\\\ \\vdots \\end{bmatrix}$$<br>\n",
    "$$\\begin{bmatrix}PR(A_1) \\\\ PR(A_2) \\\\ \\vdots \\end{bmatrix} = \n",
    "\\begin{bmatrix}1-d \\\\ 1-d \\\\ \\vdots \\end{bmatrix}\\begin{bmatrix}1 & -d/C_1(T_2) & ... \\\\ \n",
    "-d/C_2(T_1) & 1 & ... \\\\ \\vdots & \\vdots & \\ddots \\end{bmatrix}^{-1}$$"
   ]
  },
  {
   "cell_type": "code",
   "execution_count": 73,
   "metadata": {},
   "outputs": [],
   "source": [
    "def matrix_rank(url_targets):\n",
    "    start_time = time.time()\n",
    "    keys = list(url_targets.keys())\n",
    "    b = np.zeros(len(keys))+1-d\n",
    "    A = np.identity(len(keys))\n",
    "    for row in range(len(keys)):\n",
    "        for column in range(len(keys)):\n",
    "            if row != column and keys[column] in url_targets[keys[row]]:\n",
    "                A[row,column] = -d/len(url_targets[keys[row]])\n",
    "    PR = np.matmul(b.T,np.linalg.inv(A))\n",
    "    return {keys[n]:PR[n] for n in range(len(PR))}, time.time() - start_time"
   ]
  },
  {
   "cell_type": "code",
   "execution_count": 74,
   "metadata": {},
   "outputs": [
    {
     "name": "stdout",
     "output_type": "stream",
     "text": [
      "time to run 0.01495981216430664\n"
     ]
    },
    {
     "data": {
      "text/plain": [
       "[('/wiki/Main_Page', 4.5236154060440725),\n",
       " ('/wiki/Black_hole', 1.8426238105143034),\n",
       " ('/wiki/Supernova', 1.7004531845537845),\n",
       " ('/wiki/Dark_matter', 1.6849156100396894),\n",
       " ('/wiki/General_relativity', 1.6588876835802195),\n",
       " ('/wiki/Universe', 1.564350720769985),\n",
       " ('/wiki/Galaxy', 1.501255631936278),\n",
       " ('/wiki/Neutron_star', 1.4945359986560995),\n",
       " ('/wiki/White_dwarf', 1.486001523902547),\n",
       " ('/wiki/Dark_energy', 1.3737415360304055)]"
      ]
     },
     "execution_count": 74,
     "metadata": {},
     "output_type": "execute_result"
    }
   ],
   "source": [
    "page_rank, this_time = matrix_rank(url_targets)\n",
    "print('time to run', this_time)\n",
    "\n",
    "page_rank = {url: rank for url, rank in sorted(page_rank.items(), key=lambda item: item[1], reverse=True)}\n",
    "[(key,page_rank[key]) for key in page_rank.keys()][:10]"
   ]
  },
  {
   "cell_type": "code",
   "execution_count": 85,
   "metadata": {
    "scrolled": false
   },
   "outputs": [
    {
     "name": "stdout",
     "output_type": "stream",
     "text": [
      "0\n"
     ]
    },
    {
     "data": {
      "application/vnd.jupyter.widget-view+json": {
       "model_id": "a57b082c66614b5f96f378b3d693fc0d",
       "version_major": 2,
       "version_minor": 0
      },
      "text/plain": [
       "HBox(children=(HTML(value=''), FloatProgress(value=0.0, max=1.0), HTML(value='')))"
      ]
     },
     "metadata": {},
     "output_type": "display_data"
    },
    {
     "name": "stdout",
     "output_type": "stream",
     "text": [
      "\n",
      "1\n"
     ]
    },
    {
     "data": {
      "application/vnd.jupyter.widget-view+json": {
       "model_id": "8e95d2d08b1643eb89c8e9690ab1fe10",
       "version_major": 2,
       "version_minor": 0
      },
      "text/plain": [
       "HBox(children=(HTML(value=''), FloatProgress(value=0.0, max=245.0), HTML(value='')))"
      ]
     },
     "metadata": {},
     "output_type": "display_data"
    },
    {
     "name": "stdout",
     "output_type": "stream",
     "text": [
      "\n",
      "2\n"
     ]
    },
    {
     "data": {
      "application/vnd.jupyter.widget-view+json": {
       "model_id": "53d6cbac8a034d2f89c27a7aba714c0d",
       "version_major": 2,
       "version_minor": 0
      },
      "text/plain": [
       "HBox(children=(HTML(value=''), FloatProgress(value=0.0, max=21023.0), HTML(value='')))"
      ]
     },
     "metadata": {},
     "output_type": "display_data"
    },
    {
     "name": "stdout",
     "output_type": "stream",
     "text": [
      "\n"
     ]
    }
   ],
   "source": [
    "test_targets = crawler(initial_url, 3)"
   ]
  },
  {
   "cell_type": "code",
   "execution_count": 107,
   "metadata": {},
   "outputs": [
    {
     "data": {
      "text/plain": [
       "Text(0, 0.5, 'ln(time (s))')"
      ]
     },
     "execution_count": 107,
     "metadata": {},
     "output_type": "execute_result"
    },
    {
     "data": {
      "image/png": "[encoded data removed]",
      "text/plain": [
       "<Figure size 432x288 with 1 Axes>"
      ]
     },
     "metadata": {
      "needs_background": "light"
     },
     "output_type": "display_data"
    }
   ],
   "source": [
    "pieces = 10\n",
    "x = []\n",
    "times = []\n",
    "for n in range(2,pieces):\n",
    "    size = len(url_targets.keys())*n//pieces\n",
    "    x.append(size)\n",
    "    test_keys = list(url_targets.keys())[:size]\n",
    "    test_url_targets = {url: url_targets[url] & set(test_keys) for url in test_keys}\n",
    "    page_rank, this_time = matrix_rank(test_url_targets)\n",
    "    times.append(this_time)\n",
    "x = np.array(x)\n",
    "times = np.array(times)\n",
    "m, b = np.polyfit(np.log(x),np.log(times), 1)\n",
    "plt.plot(np.log(x),m*np.log(x)+b,label='ln(time) = '+str(round(m,3))+' ln(size) '+str(round(b,3)))\n",
    "plt.scatter(np.log(x),np.log(times))\n",
    "plt.legend()\n",
    "plt.title('Matrix Method')\n",
    "plt.xlabel('ln(size)')\n",
    "plt.ylabel('ln(time (s))')"
   ]
  },
  {
   "cell_type": "markdown",
   "metadata": {},
   "source": [
    "<h1>Random Walk</h1>"
   ]
  },
  {
   "cell_type": "code",
   "execution_count": 127,
   "metadata": {},
   "outputs": [],
   "source": [
    "def random_rank(steps, walkers,url_targets):\n",
    "    start_time = time.time()\n",
    "    urls = list(url_targets.keys())\n",
    "    #initial positions\n",
    "    for walker in range(walkers):\n",
    "        positions = np.random.choice(urls,walkers)\n",
    "    for step in range(steps):\n",
    "        for walker in range(walkers):\n",
    "            positions[walker] = np.random.choice(list(url_targets[positions[walker]]))\n",
    "    return {url: (1-d) + d*np.sum(positions == url)/walkers for url in urls}, time.time() - start_time"
   ]
  },
  {
   "cell_type": "code",
   "execution_count": 128,
   "metadata": {},
   "outputs": [
    {
     "name": "stdout",
     "output_type": "stream",
     "text": [
      "time to run 13.295462131500244\n"
     ]
    },
    {
     "data": {
      "text/plain": [
       "[('/wiki/Main_Page', 0.27172),\n",
       " ('/wiki/Supernova', 0.160115),\n",
       " ('/wiki/Black_hole', 0.15850000000000003),\n",
       " ('/wiki/General_relativity', 0.15739500000000003),\n",
       " ('/wiki/Dark_matter', 0.15731000000000003),\n",
       " ('/wiki/Neutron_star', 0.15654500000000002),\n",
       " ('/wiki/Universe', 0.15654500000000002),\n",
       " ('/wiki/Dark_energy', 0.15629),\n",
       " ('/wiki/Galaxy', 0.15629),\n",
       " ('/wiki/Exotic_matter', 0.156205)]"
      ]
     },
     "execution_count": 128,
     "metadata": {},
     "output_type": "execute_result"
    }
   ],
   "source": [
    "page_rank, this_time = random_rank(5,10**4,url_targets)\n",
    "print('time to run', this_time)\n",
    "\n",
    "page_rank = {url: rank for url, rank in sorted(page_rank.items(), key=lambda item: item[1], reverse=True)}\n",
    "[(key,page_rank[key]) for key in page_rank.keys()][:10]"
   ]
  },
  {
   "cell_type": "code",
   "execution_count": 122,
   "metadata": {},
   "outputs": [
    {
     "name": "stdout",
     "output_type": "stream",
     "text": [
      "1000\n",
      "2000\n",
      "3000\n",
      "4000\n",
      "5000\n",
      "6000\n",
      "7000\n",
      "8000\n",
      "9000\n"
     ]
    },
    {
     "data": {
      "image/png": "[encoded data removed]",
      "text/plain": [
       "<Figure size 432x288 with 1 Axes>"
      ]
     },
     "metadata": {
      "needs_background": "light"
     },
     "output_type": "display_data"
    },
    {
     "data": {
      "image/png": "[encoded data removed]",
      "text/plain": [
       "<Figure size 432x288 with 1 Axes>"
      ]
     },
     "metadata": {
      "needs_background": "light"
     },
     "output_type": "display_data"
    }
   ],
   "source": [
    "exponent = 4\n",
    "number_of_walkers = np.arange(10**(exponent-1),10**exponent,10**(exponent-1))\n",
    "times = []\n",
    "page_ranks = []\n",
    "diffs = []\n",
    "for walkers in number_of_walkers:\n",
    "    print(walkers)\n",
    "    page_rank, this_time = random_rank(5, walkers,url_targets)\n",
    "    times.append(this_time)\n",
    "    page_ranks.append(page_rank)\n",
    "for page_rank in page_ranks:\n",
    "    diff = 0\n",
    "    for key in page_rank:\n",
    "        diff += (page_rank[key]-page_ranks[-1][key])**2\n",
    "    diffs.append(diff)\n",
    "plt.scatter(number_of_walkers,times)\n",
    "plt.title('Random Walk')\n",
    "plt.xlabel('Walkers')\n",
    "plt.ylabel('Time (s)')\n",
    "plt.show()\n",
    "plt.scatter(number_of_walkers,diffs)\n",
    "plt.title('Difference From Final Values')\n",
    "plt.xlabel('Walkers')\n",
    "plt.ylabel('Difference')\n",
    "plt.show()"
   ]
  },
  {
   "cell_type": "code",
   "execution_count": 126,
   "metadata": {},
   "outputs": [
    {
     "data": {
      "image/png": "[encoded data removed]",
      "text/plain": [
       "<Figure size 432x288 with 1 Axes>"
      ]
     },
     "metadata": {
      "needs_background": "light"
     },
     "output_type": "display_data"
    }
   ],
   "source": [
    "page_ranks=[]\n",
    "diffs=[]\n",
    "x=[]\n",
    "steps=8\n",
    "walkers = 10**4\n",
    "urls = list(url_targets.keys())\n",
    "#initial positions\n",
    "for walker in range(walkers):\n",
    "    positions = np.random.choice(urls,walkers)\n",
    "for step in range(steps):\n",
    "    for walker in range(walkers):\n",
    "        positions[walker] = np.random.choice(list(url_targets[positions[walker]]))\n",
    "    page_ranks.append({url: (1-d) + d*np.sum(positions == url)/walkers for url in urls})\n",
    "    x.append(step)\n",
    "for page_rank in page_ranks:\n",
    "    diff = 0\n",
    "    for key in page_rank:\n",
    "        diff += (page_rank[key]-page_ranks[-1][key])**2\n",
    "    diffs.append(diff)\n",
    "plt.scatter(x,diffs)\n",
    "plt.title('Difference From Final Values Random Walk')\n",
    "plt.xlabel('Interation')\n",
    "plt.ylabel('Difference')\n",
    "plt.show()"
   ]
  },
  {
   "cell_type": "code",
   "execution_count": null,
   "metadata": {},
   "outputs": [],
   "source": [
    "pieces = 10\n",
    "x = []\n",
    "times = []\n",
    "for n in range(3,pieces):\n",
    "    size = len(url_targets.keys())*n//pieces\n",
    "    x.append(size)\n",
    "    test_keys = list(url_targets.keys())[:size]\n",
    "    test_url_targets = {url: url_targets[url] & set(test_keys) for url in test_keys}\n",
    "    page_rank, this_time = random_rank(5,10**4,test_url_targets)\n",
    "    times.append(this_time)\n",
    "x = np.array(x)\n",
    "times = np.array(times)\n",
    "m, b = np.polyfit(np.log(x),np.log(times), 1)\n",
    "plt.plot(np.log(x),m*np.log(x)+b,label='ln(time) = '+str(round(m,3))+' ln(size) '+str(round(b,3)))\n",
    "plt.scatter(np.log(x),np.log(times))\n",
    "plt.legend()\n",
    "plt.title('Random Walk Method')\n",
    "plt.xlabel('ln(size)')\n",
    "plt.ylabel('ln(time (s))')"
   ]
  },
  {
   "cell_type": "code",
   "execution_count": null,
   "metadata": {},
   "outputs": [],
   "source": []
  }
 ],
 "metadata": {
  "kernelspec": {
   "display_name": "Python 3",
   "language": "python",
   "name": "python3"
  },
  "language_info": {
   "codemirror_mode": {
    "name": "ipython",
    "version": 3
   },
   "file_extension": ".py",
   "mimetype": "text/x-python",
   "name": "python",
   "nbconvert_exporter": "python",
   "pygments_lexer": "ipython3",
   "version": "3.8.5"
  }
 },
 "nbformat": 4,
 "nbformat_minor": 4
}
