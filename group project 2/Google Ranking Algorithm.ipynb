{
 "cells": [
  {
   "cell_type": "markdown",
   "metadata": {},
   "source": [
    "<h1>Silly Google Ranking Algorithm</h1>"
   ]
  },
  {
   "cell_type": "code",
   "execution_count": 9,
   "metadata": {},
   "outputs": [],
   "source": [
    "import numpy as np\n",
    "import urllib.request\n",
    "import os\n",
    "import time\n",
    "from tqdm.notebook import tqdm"
   ]
  },
  {
   "cell_type": "code",
   "execution_count": 5,
   "metadata": {},
   "outputs": [],
   "source": [
    "#dictionary of urls\n",
    "url_targets = {}\n",
    "url_pointers = {}\n",
    "#damping factor\n",
    "d = 0.85\n",
    "#creeper iterations\n",
    "creeper_iterations=2\n",
    "#base url\n",
    "base_url = \"https://en.wikipedia.org\"\n",
    "#initial url\n",
    "initial_url = \"/wiki/Black_Hole_Initiative\""
   ]
  },
  {
   "cell_type": "markdown",
   "metadata": {},
   "source": [
    "<h1>Crawler</h1>"
   ]
  },
  {
   "cell_type": "code",
   "execution_count": 6,
   "metadata": {},
   "outputs": [
    {
     "name": "stdout",
     "output_type": "stream",
     "text": [
      "0\n"
     ]
    },
    {
     "data": {
      "application/vnd.jupyter.widget-view+json": {
       "model_id": "831d1da8149a47e490b19951d89e0b94",
       "version_major": 2,
       "version_minor": 0
      },
      "text/plain": [
       "HBox(children=(HTML(value=''), FloatProgress(value=0.0, max=1.0), HTML(value='')))"
      ]
     },
     "metadata": {},
     "output_type": "display_data"
    },
    {
     "name": "stdout",
     "output_type": "stream",
     "text": [
      "\n",
      "1\n"
     ]
    },
    {
     "data": {
      "application/vnd.jupyter.widget-view+json": {
       "model_id": "5acc57db3145472b9bfdc92ae957aed7",
       "version_major": 2,
       "version_minor": 0
      },
      "text/plain": [
       "HBox(children=(HTML(value=''), FloatProgress(value=0.0, max=265.0), HTML(value='')))"
      ]
     },
     "metadata": {},
     "output_type": "display_data"
    },
    {
     "name": "stdout",
     "output_type": "stream",
     "text": [
      "\n"
     ]
    }
   ],
   "source": [
    "def crawler(initial_url, creeper_iterations):\n",
    "    open_urls = [initial_url]\n",
    "    url_pointers[initial_url] = 0\n",
    "    url_targets[initial_url] = set()\n",
    "    htmls = os.listdir('wiki')\n",
    "    for n in range(creeper_iterations):\n",
    "        print(n)\n",
    "        new_urls = []\n",
    "        for url in tqdm(open_urls):\n",
    "            try:\n",
    "                file_name = '_'.join(url.split('/')[2:])+'.html'\n",
    "                if file_name in htmls:\n",
    "                    file = open('wiki/'+file_name,encoding=\"utf-8\").read()\n",
    "                else:    \n",
    "                    file = urllib.request.urlopen(base_url+url).read().decode(\"utf-8\")\n",
    "                    html = open('wiki/'+file_name,\"w+\",encoding=\"utf-8\")\n",
    "                    html.write(file)\n",
    "                    html.close()\n",
    "                file = file.replace(\" \",\"\")\n",
    "                url_list =file.split('href=\"')\n",
    "                for k in range(len(url_list)):\n",
    "                    url_list[k] = url_list[k].split('\"')[0]\n",
    "                for found_url in url_list:\n",
    "                    if \"/wiki/\" == found_url[:6] and not \"#\" in found_url and not \":\" in found_url:\n",
    "                        pointers = url_pointers.get(found_url,0)\n",
    "                        if pointers == 0:\n",
    "                            new_urls.append(found_url)\n",
    "                        if not found_url in url_targets[url]:\n",
    "                            url_targets[url].add(found_url)\n",
    "                        url_pointers[url] += 1\n",
    "                        url_pointers[found_url] = 0\n",
    "                        url_targets[found_url] = set()\n",
    "            except:\n",
    "                print(file_name)\n",
    "        open_urls = new_urls\n",
    "    return url_pointers, url_targets\n",
    "\n",
    "url_pointers, url_targets = crawler(initial_url, creeper_iterations)"
   ]
  },
  {
   "cell_type": "markdown",
   "metadata": {},
   "source": [
    "<h1>Relaxation Method</h1>"
   ]
  },
  {
   "cell_type": "markdown",
   "metadata": {},
   "source": [
    "We assume page $A$ has pages $T_1 ... T_n$ which point to it (i.e., are citations). The parameter $d$ is a damping factor which can be set between 0 and 1. We usually set $d$ to 0.85. There are more details about $d$ in the next section. Also $C(A)$ is defined as the number of links going out of page $A$. The PageRank of a page $A$ is given as follows:<br><br>\n",
    "$$PR(A) = (1-d) + d (PR(T_1)/C(T_1) + ... + PR(T_n)/C(T_n))$$<br>\n",
    "Note that the PageRanks form a probability distribution over web pages, so the sum of all web pages' PageRanks will be one."
   ]
  },
  {
   "cell_type": "code",
   "execution_count": 12,
   "metadata": {},
   "outputs": [
    {
     "data": {
      "application/vnd.jupyter.widget-view+json": {
       "model_id": "3f5643a922d24a96b9105d5160a95fa7",
       "version_major": 2,
       "version_minor": 0
      },
      "text/plain": [
       "HBox(children=(HTML(value=''), FloatProgress(value=0.0, max=21033.0), HTML(value='')))"
      ]
     },
     "metadata": {},
     "output_type": "display_data"
    },
    {
     "name": "stdout",
     "output_type": "stream",
     "text": [
      "\n"
     ]
    },
    {
     "data": {
      "application/vnd.jupyter.widget-view+json": {
       "model_id": "bbfb539b02254d4ea3bc6bfb3801db94",
       "version_major": 2,
       "version_minor": 0
      },
      "text/plain": [
       "HBox(children=(HTML(value=''), FloatProgress(value=0.0, max=21033.0), HTML(value='')))"
      ]
     },
     "metadata": {},
     "output_type": "display_data"
    },
    {
     "name": "stdout",
     "output_type": "stream",
     "text": [
      "\n"
     ]
    },
    {
     "data": {
      "application/vnd.jupyter.widget-view+json": {
       "model_id": "b0ee30c4dfbf4b80ad45d31fce9a2f0e",
       "version_major": 2,
       "version_minor": 0
      },
      "text/plain": [
       "HBox(children=(HTML(value=''), FloatProgress(value=0.0, max=21033.0), HTML(value='')))"
      ]
     },
     "metadata": {},
     "output_type": "display_data"
    },
    {
     "name": "stdout",
     "output_type": "stream",
     "text": [
      "\n"
     ]
    },
    {
     "data": {
      "application/vnd.jupyter.widget-view+json": {
       "model_id": "5b55ca1cac2f42eabcfff5e87da58289",
       "version_major": 2,
       "version_minor": 0
      },
      "text/plain": [
       "HBox(children=(HTML(value=''), FloatProgress(value=0.0, max=21033.0), HTML(value='')))"
      ]
     },
     "metadata": {},
     "output_type": "display_data"
    },
    {
     "name": "stdout",
     "output_type": "stream",
     "text": [
      "\n"
     ]
    },
    {
     "data": {
      "application/vnd.jupyter.widget-view+json": {
       "model_id": "17c85edf38ff4a9fa0b4bc37ee9badcc",
       "version_major": 2,
       "version_minor": 0
      },
      "text/plain": [
       "HBox(children=(HTML(value=''), FloatProgress(value=0.0, max=21033.0), HTML(value='')))"
      ]
     },
     "metadata": {},
     "output_type": "display_data"
    },
    {
     "name": "stdout",
     "output_type": "stream",
     "text": [
      "\n",
      "time to run:  378.9962568283081\n"
     ]
    }
   ],
   "source": [
    "start_time = time.time()\n",
    "\n",
    "page_rank = {}\n",
    "\n",
    "for key in url_pointers.keys():\n",
    "    page_rank[key] = 1/len(url_pointers.keys())\n",
    "\n",
    "for n in range(5):\n",
    "    new_rank = {}\n",
    "    for key in tqdm(page_rank.keys()):\n",
    "        new_rank[key] = 1-d\n",
    "        for sum_key in page_rank.keys():\n",
    "            if key in url_targets[sum_key]:\n",
    "                new_rank[key] += d*page_rank[sum_key]/len(url_targets[sum_key])\n",
    "    page_rank = new_rank.copy()\n",
    "\n",
    "page_rank = {url: rank for url, rank in sorted(page_rank.items(), key=lambda item: item[1], reverse=True)}\n",
    "\n",
    "print('time to run: ',time.time()-start_time)"
   ]
  },
  {
   "cell_type": "code",
   "execution_count": 13,
   "metadata": {},
   "outputs": [
    {
     "data": {
      "text/plain": [
       "['/wiki/Main_Page',\n",
       " '/wiki/Black_Hole_Initiative',\n",
       " '/wiki/Physical_cosmology',\n",
       " '/wiki/Big_Bang',\n",
       " '/wiki/Universe',\n",
       " '/wiki/Age_of_the_universe',\n",
       " '/wiki/Chronology_of_the_universe',\n",
       " '/wiki/Planck_epoch',\n",
       " '/wiki/Grand_unification_epoch',\n",
       " '/wiki/Electroweak_epoch']"
      ]
     },
     "execution_count": 13,
     "metadata": {},
     "output_type": "execute_result"
    }
   ],
   "source": [
    "list(page_rank)[:10]"
   ]
  },
  {
   "cell_type": "code",
   "execution_count": 14,
   "metadata": {
    "scrolled": false
   },
   "outputs": [
    {
     "data": {
      "text/plain": [
       "[('/wiki/Main_Page', 0.2775),\n",
       " ('/wiki/Black_Hole_Initiative', 0.15000000000000002),\n",
       " ('/wiki/Physical_cosmology', 0.15000000000000002),\n",
       " ('/wiki/Big_Bang', 0.15000000000000002),\n",
       " ('/wiki/Universe', 0.15000000000000002),\n",
       " ('/wiki/Age_of_the_universe', 0.15000000000000002),\n",
       " ('/wiki/Chronology_of_the_universe', 0.15000000000000002),\n",
       " ('/wiki/Planck_epoch', 0.15000000000000002),\n",
       " ('/wiki/Grand_unification_epoch', 0.15000000000000002),\n",
       " ('/wiki/Electroweak_epoch', 0.15000000000000002)]"
      ]
     },
     "execution_count": 14,
     "metadata": {},
     "output_type": "execute_result"
    }
   ],
   "source": [
    "[(key,page_rank[key]) for key in page_rank.keys()][:10]"
   ]
  },
  {
   "cell_type": "markdown",
   "metadata": {},
   "source": [
    "<h1>Linear Algebra</h1>"
   ]
  },
  {
   "cell_type": "markdown",
   "metadata": {},
   "source": [
    "$$PR(A) = (1-d) + d (PR(T_1)/C(T_1) + ... + PR(T_n)/C(T_n))$$<br>\n",
    "$$PR(A) - d (PR(T_1)/C(T_1) + ... + PR(T_n)/C(T_n)) = 1-d$$<br>\n",
    "$$\\begin{bmatrix}1 & -d/C_1(T_2) & ... \\\\ \n",
    "-d/C_2(T_1) & 1 & ... \\\\ \\vdots & \\vdots & \\ddots \\end{bmatrix} \\begin{bmatrix}PR(A_1) \\\\ PR(A_2) \\\\ \\vdots \\end{bmatrix} = \n",
    "\\begin{bmatrix}1-d \\\\ 1-d \\\\ \\vdots \\end{bmatrix}$$<br>\n",
    "$$\\begin{bmatrix}PR(A_1) \\\\ PR(A_2) \\\\ \\vdots \\end{bmatrix} = \n",
    "\\begin{bmatrix}1-d \\\\ 1-d \\\\ \\vdots \\end{bmatrix}\\begin{bmatrix}1 & -d/C_1(T_2) & ... \\\\ \n",
    "-d/C_2(T_1) & 1 & ... \\\\ \\vdots & \\vdots & \\ddots \\end{bmatrix}^{-1}$$"
   ]
  },
  {
   "cell_type": "code",
   "execution_count": 16,
   "metadata": {},
   "outputs": [
    {
     "data": {
      "application/vnd.jupyter.widget-view+json": {
       "model_id": "542069da3db548718ee3c816db37aa8b",
       "version_major": 2,
       "version_minor": 0
      },
      "text/plain": [
       "HBox(children=(HTML(value=''), FloatProgress(value=0.0, max=21033.0), HTML(value='')))"
      ]
     },
     "metadata": {},
     "output_type": "display_data"
    },
    {
     "name": "stdout",
     "output_type": "stream",
     "text": [
      "\n",
      "time to run:  265.0543804168701\n"
     ]
    }
   ],
   "source": [
    "start_time = time.time()\n",
    "\n",
    "keys = list(page_rank.keys())\n",
    "b = np.zeros(len(keys))+1-d\n",
    "A = np.identity(len(keys))\n",
    "for row in tqdm(range(len(keys))):\n",
    "    for column in range(len(keys)):\n",
    "        if row != column and keys[column] in url_targets[keys[row]]:\n",
    "            A[row,column] = -d/len(url_targets[keys[row]])\n",
    "PR = np.matmul(b.T,np.linalg.inv(A))\n",
    "\n",
    "print('time to run: ',time.time()-start_time)"
   ]
  },
  {
   "cell_type": "code",
   "execution_count": 17,
   "metadata": {},
   "outputs": [
    {
     "data": {
      "text/plain": [
       "[('/wiki/Main_Page', 0.2775),\n",
       " ('/wiki/Black_Hole_Initiative', 0.15000000000000002),\n",
       " ('/wiki/Physical_cosmology', 0.15000000000000002),\n",
       " ('/wiki/Big_Bang', 0.15000000000000002),\n",
       " ('/wiki/Universe', 0.15000000000000002),\n",
       " ('/wiki/Age_of_the_universe', 0.15000000000000002),\n",
       " ('/wiki/Chronology_of_the_universe', 0.15000000000000002),\n",
       " ('/wiki/Planck_epoch', 0.15000000000000002),\n",
       " ('/wiki/Grand_unification_epoch', 0.15000000000000002),\n",
       " ('/wiki/Electroweak_epoch', 0.15000000000000002)]"
      ]
     },
     "execution_count": 17,
     "metadata": {},
     "output_type": "execute_result"
    }
   ],
   "source": [
    "[(keys[n],PR[n]) for n in range(len(PR))][:10]"
   ]
  },
  {
   "cell_type": "markdown",
   "metadata": {},
   "source": [
    "<h1>Random Walk</h1>"
   ]
  },
  {
   "cell_type": "code",
   "execution_count": null,
   "metadata": {},
   "outputs": [],
   "source": []
  }
 ],
 "metadata": {
  "kernelspec": {
   "display_name": "Python 3",
   "language": "python",
   "name": "python3"
  },
  "language_info": {
   "codemirror_mode": {
    "name": "ipython",
    "version": 3
   },
   "file_extension": ".py",
   "mimetype": "text/x-python",
   "name": "python",
   "nbconvert_exporter": "python",
   "pygments_lexer": "ipython3",
   "version": "3.8.5"
  }
 },
 "nbformat": 4,
 "nbformat_minor": 4
}
