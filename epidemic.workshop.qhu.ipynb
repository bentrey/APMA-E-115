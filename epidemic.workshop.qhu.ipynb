{
 "cells": [
  {
   "cell_type": "code",
   "execution_count": 20,
   "metadata": {},
   "outputs": [],
   "source": [
    "import numpy as np \n",
    "import random\n",
    "import matplotlib.pyplot as plt \n",
    "from scipy.integrate import solve_ivp"
   ]
  },
  {
   "cell_type": "markdown",
   "metadata": {},
   "source": [
    "Question 1:"
   ]
  },
  {
   "cell_type": "code",
   "execution_count": 48,
   "metadata": {},
   "outputs": [],
   "source": [
    "def f(t, y):\n",
    "    # y[0]=S, y[1]=I, y[2]=R\n",
    "    a=2*np.log(2)\n",
    "    b=np.log(2)\n",
    "    N=1000\n",
    "    \n",
    "    S, I, R = y\n",
    "        \n",
    "    return np.array([-(a/N)*I*S, (a/N)*I*S-b*I, b*I])"
   ]
  },
  {
   "cell_type": "code",
   "execution_count": 49,
   "metadata": {
    "scrolled": true
   },
   "outputs": [],
   "source": [
    "sol = solve_ivp(f, [0, 20], np.array([999, 1, 0]), max_step = 1)"
   ]
  },
  {
   "cell_type": "code",
   "execution_count": 52,
   "metadata": {},
   "outputs": [
    {
     "data": {
      "text/plain": [
       "<matplotlib.legend.Legend at 0x2b7e82f0cc0>"
      ]
     },
     "execution_count": 52,
     "metadata": {},
     "output_type": "execute_result"
    },
    {
     "data": {
      "image/png": "[encoded data removed]",
      "text/plain": [
       "<Figure size 432x288 with 1 Axes>"
      ]
     },
     "metadata": {
      "needs_background": "light"
     },
     "output_type": "display_data"
    }
   ],
   "source": [
    "# plot results\n",
    "plt.figure() \n",
    "plt.plot(sol.t, sol.y[0, :], '.-')\n",
    "plt.plot(sol.t, sol.y[1, :], '.-')\n",
    "plt.plot(sol.t, sol.y[2, :], '.-')\n",
    "plt.xlabel('t')\n",
    "plt.ylabel('y')\n",
    "plt.legend([\"S\", \"I\", \"R\"], loc =\"lower right\")"
   ]
  },
  {
   "cell_type": "markdown",
   "metadata": {},
   "source": [
    "Question 2"
   ]
  },
  {
   "cell_type": "code",
   "execution_count": 1,
   "metadata": {},
   "outputs": [],
   "source": [
    "def initial1D(s0,i0,r0):\n",
    "    '''\n",
    "    sets an initial population vector for the epidemic simulation\n",
    "    each state subpopulation is appended to the growing vector, pop\n",
    "    NOTE: if position in the array is important,eg. if you are modeling\n",
    "    local neighborhood contacts, each individual must be placed \n",
    "    randomly in the array\n",
    "    '''\n",
    "    \n",
    "    pop=[]\n",
    "    for i in range(s0):\n",
    "        pop.append('s')\n",
    "    for i in range(i0):\n",
    "        pop.append('i')\n",
    "    for i in range(r0):\n",
    "        pop.append('r')\n",
    "    return pop"
   ]
  },
  {
   "cell_type": "code",
   "execution_count": 4,
   "metadata": {},
   "outputs": [],
   "source": [
    "def census1D(pop):\n",
    "    # counts the number of s, i and r cells in pop\n",
    "    s=0\n",
    "    i=0\n",
    "    r=0\n",
    "    n=np.array(pop).shape[0]\n",
    "    for j in range(n):\n",
    "        if pop[j]=='s':\n",
    "            s+=1\n",
    "        elif pop[j]=='i':\n",
    "            i+=1\n",
    "        elif pop[j]=='r':\n",
    "            r+=1\n",
    "    return s,i,r"
   ]
  },
  {
   "cell_type": "code",
   "execution_count": 132,
   "metadata": {},
   "outputs": [],
   "source": [
    "def epidemic_simulation(N, a, b, t=[0, 20], t_scale=1000):\n",
    "    '''\n",
    "    this stochastic epidemic simulation\n",
    "    '''\n",
    "    # initialize population\n",
    "    pop=initial1D(N-1,1,0)\n",
    "    a = 2*np.log(2)\n",
    "    s, i , r = census1D(pop)\n",
    "    h = np.linspace(t[0], t[1], num=t_scale)\n",
    "    interval = (t[1] - t[0])/t_scale\n",
    "    \n",
    "    tt=[0]\n",
    "    results=[[s,i,r]]\n",
    "    for index in range(len(h)):\n",
    "        # the probability has birth event (at 1 person get infected) over time interval h\n",
    "        pb = (a/N) * i * interval * s\n",
    "        # the probability has death event (infect to recover)\n",
    "        pd = b*i*interval\n",
    "        \n",
    "        k=random.uniform(0, 1)\n",
    "        #print([pb, pd, k, i])\n",
    "        \n",
    "        if k<=pb:\n",
    "            s = s-1\n",
    "            i = i+1\n",
    "        else:\n",
    "            s = s\n",
    "            \n",
    "        k = random.uniform(0, 1)   \n",
    "        if k <= pd:\n",
    "            i = i-1\n",
    "            r = r+1\n",
    "        else:\n",
    "            r = r\n",
    "        \n",
    "        results.append([s,i,r])\n",
    "        tt.append(h[index])\n",
    "        \n",
    "        #if i==0:\n",
    "        #    return results\n",
    "        \n",
    "    return results, tt"
   ]
  },
  {
   "cell_type": "code",
   "execution_count": 133,
   "metadata": {},
   "outputs": [],
   "source": [
    "random.seed(100)\n",
    "pop, h = epidemic_simulation(1000, a=2*np.log(2), b=np.log(2), t=[0, 20], t_scale=5000)"
   ]
  },
  {
   "cell_type": "code",
   "execution_count": 145,
   "metadata": {},
   "outputs": [],
   "source": [
    "S = [item[0] for item in pop]\n",
    "I = [item[1] for item in pop]\n",
    "R = [item[2] for item in pop]"
   ]
  },
  {
   "cell_type": "code",
   "execution_count": 146,
   "metadata": {},
   "outputs": [
    {
     "data": {
      "text/plain": [
       "<matplotlib.legend.Legend at 0x23bfc494940>"
      ]
     },
     "execution_count": 146,
     "metadata": {},
     "output_type": "execute_result"
    },
    {
     "data": {
      "image/png": "[encoded data removed]",
      "text/plain": [
       "<Figure size 432x288 with 1 Axes>"
      ]
     },
     "metadata": {
      "needs_background": "light"
     },
     "output_type": "display_data"
    }
   ],
   "source": [
    "plt.figure() \n",
    "plt.plot(h, S, '.-')\n",
    "plt.plot(h, I, '.-')\n",
    "plt.plot(h, R, '.-')\n",
    "plt.xlabel('t')\n",
    "plt.ylabel('y')\n",
    "plt.legend([\"S\"], loc =\"lower right\")"
   ]
  }
 ],
 "metadata": {
  "kernelspec": {
   "display_name": "Python 3",
   "language": "python",
   "name": "python3"
  },
  "language_info": {
   "codemirror_mode": {
    "name": "ipython",
    "version": 3
   },
   "file_extension": ".py",
   "mimetype": "text/x-python",
   "name": "python",
   "nbconvert_exporter": "python",
   "pygments_lexer": "ipython3",
   "version": "3.7.3"
  }
 },
 "nbformat": 4,
 "nbformat_minor": 2
}
